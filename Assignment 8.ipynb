{
 "cells": [
  {
   "cell_type": "markdown",
   "id": "ba959c21",
   "metadata": {},
   "source": [
    "1. What exactly is a feature? Give an example to illustrate your point.\n",
    "\n",
    "Ans.In machine learning and pattern recognition, a feature is an individual measurable property or characteristic of a phenomenon. Choosing informative, discriminating and independent features is a crucial element of effective algorithms in pattern recognition, classification and regression.\n",
    "\n",
    "2. What are the various circumstances in which feature construction is required?\n",
    "\n",
    "Ans.Feature extraction/construction is a process through which a set of new features is created. They are used either in isolation or in combination. All attempt to improve performance such as estimated ac- curacy, visualization and comprehensibility of learned knowledge.\n",
    "\n",
    "3. Describe how nominal variables are encoded.\n",
    "\n",
    "Ans.Using one hot encoding\n",
    "\n",
    "4. Describe how numeric features are converted to categorical features.\n",
    "\n",
    "Ans.We can group the numeric data and then label them as 1,2,3 and so on or use one hot encoding.\n",
    "\n",
    "5. Describe the feature selection wrapper approach. State the advantages and disadvantages of this approach?\n",
    "\n",
    "Ans.In wrapper methods, the feature selection process is based on a specific machine learning algorithm that we are trying to fit on a given dataset. It follows a greedy search approach by evaluating all the possible combinations of features against the evaluation criterion.\n",
    "There are several disadvantages with WFS such as computationally intensive, discriminative power, lower shorter training times, classifier dependent selection, and higher risk of over-fitting than deterministic algorithms.\n",
    "The wrapper method has the advantages of better generalization and robust interaction with the classifier used for feature selection.\n",
    "\n",
    "6. When is a feature considered irrelevant? What can be said to quantify it?\n",
    "\n",
    "Ans.If it is conditionally independent of the class labels or it does not influence the class labels then the feature is considered irrelevant.\n",
    "We can quantify features by the total number of times people are using the feature. the number of unique users who are using the feature. the percentage of your total active users who are using the feature. the average number of times per day users are using the feature.\n",
    "\n",
    "7. When is a function considered redundant? What criteria are used to identify features that could be redundant?\n",
    "\n",
    "Ans.An attribute (column or feature of data set) is called redundant if it can be derived from any other attribute or set of attributes.\n",
    "\n",
    "8. What are the various distance measurements used to determine feature similarity?\n",
    "\n",
    "Ans.The most common distance function used for numeric attributes or features is the Euclidean distance.\n",
    "\n",
    "9. State difference between Euclidean and Manhattan distances?\n",
    "\n",
    "Ans.Euclidean distance is the shortest path between source and destination which is a straight line but Manhattan distance is sum of all the real distances between source(s) and destination(d) and each distance are always the straight lines.\n",
    "\n",
    "10. Distinguish between feature transformation and feature selection.\n",
    "\n",
    "Ans.feature transformation: transformation of data to improve the accuracy of the algorithm; feature selection: removing unnecessary features.\n",
    "\n",
    "11. Make brief notes on any two of the following:\n",
    "\n",
    "          1.SVD (Standard Variable Diameter Diameter)\n",
    "\n",
    "          2. Collection of features using a hybrid approach\n",
    "\n",
    "          3. The width of the silhouette-Silhouette width is a widely used index for assessing the fit of individual objects in the classification, as well as the quality of clusters and the entire classification.\n",
    "\n",
    "          4. Receiver operating characteristic curve-This is the curve between true positive vs false positive rate and maximum area under the curve indicates good model performance.\n"
   ]
  }
 ],
 "metadata": {
  "kernelspec": {
   "display_name": "Python 3 (ipykernel)",
   "language": "python",
   "name": "python3"
  },
  "language_info": {
   "codemirror_mode": {
    "name": "ipython",
    "version": 3
   },
   "file_extension": ".py",
   "mimetype": "text/x-python",
   "name": "python",
   "nbconvert_exporter": "python",
   "pygments_lexer": "ipython3",
   "version": "3.9.12"
  }
 },
 "nbformat": 4,
 "nbformat_minor": 5
}
